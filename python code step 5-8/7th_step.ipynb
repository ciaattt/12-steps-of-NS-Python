{
 "cells": [
  {
   "cell_type": "markdown",
   "id": "1892a19e",
   "metadata": {},
   "source": [
    "## Import Necessary Library"
   ]
  },
  {
   "cell_type": "code",
   "execution_count": 1,
   "id": "53bd7ac3",
   "metadata": {},
   "outputs": [],
   "source": [
    "%matplotlib notebook\n",
    "import numpy as np\n",
    "import pandas as pd\n",
    "import sympy \n",
    "import matplotlib.pyplot as plt\n",
    "import matplotlib.animation as animation\n",
    "from IPython.display import HTML\n",
    "from sympy import init_printing\n",
    "from sympy.utilities.lambdify import lambdify\n",
    "from mpl_toolkits.mplot3d import Axes3D  # needed for 3D plotting\n",
    "from matplotlib import cm  # colormap\n",
    "init_printing(use_latex=True)"
   ]
  },
  {
   "cell_type": "markdown",
   "id": "f8475b11",
   "metadata": {},
   "source": [
    "## Two Dimensional Diffusion Equation"
   ]
  },
  {
   "cell_type": "code",
   "execution_count": null,
   "id": "1e102e17",
   "metadata": {},
   "outputs": [],
   "source": []
  }
 ],
 "metadata": {
  "kernelspec": {
   "display_name": "Python 3",
   "language": "python",
   "name": "python3"
  },
  "language_info": {
   "codemirror_mode": {
    "name": "ipython",
    "version": 3
   },
   "file_extension": ".py",
   "mimetype": "text/x-python",
   "name": "python",
   "nbconvert_exporter": "python",
   "pygments_lexer": "ipython3",
   "version": "3.9.8"
  }
 },
 "nbformat": 4,
 "nbformat_minor": 5
}
